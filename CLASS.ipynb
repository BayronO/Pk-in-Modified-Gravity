{
 "cells": [
  {
   "cell_type": "markdown",
   "id": "2cd25e1a-f211-4d1c-bd56-4db1425fbc5e",
   "metadata": {
    "tags": []
   },
   "source": [
    "# k_eq and z_eq"
   ]
  },
  {
   "cell_type": "code",
   "execution_count": 1,
   "id": "a2e83ff7-5e75-49e0-9e3f-a1d509fe4968",
   "metadata": {
    "tags": []
   },
   "outputs": [],
   "source": [
    "from classy import Class\n",
    "import numpy as np"
   ]
  },
  {
   "cell_type": "code",
   "execution_count": 2,
   "id": "c2da197a-3866-46bf-ab90-8e83ff998718",
   "metadata": {
    "tags": []
   },
   "outputs": [],
   "source": [
    "# Grid of 30x30 \n",
    "wb_vals = np.linspace(0.0214, 0.0234, 30)\n",
    "wm_vals = np.linspace(0.13, 0.15, 30)"
   ]
  },
  {
   "cell_type": "code",
   "execution_count": 3,
   "id": "a36239ae-dc79-485a-938e-b42ad99d0eb4",
   "metadata": {
    "tags": []
   },
   "outputs": [],
   "source": [
    "# To store data\n",
    "keq_vals = np.zeros((len(wb_vals),len(wm_vals)))\n",
    "zeq_vals = np.zeros((len(wb_vals),len(wm_vals)))\n",
    "Store = []"
   ]
  },
  {
   "cell_type": "code",
   "execution_count": 4,
   "id": "e5d98430-30c5-49a0-8901-68165c7d5700",
   "metadata": {
    "tags": []
   },
   "outputs": [
    {
     "name": "stdout",
     "output_type": "stream",
     "text": [
      "Mission Complete!\n"
     ]
    }
   ],
   "source": [
    "# based on Planck+BAO 2018\n",
    "for i in range(len(wb_vals)):\n",
    "    for j in range(len(wm_vals)):\n",
    "        params = {'output': '', 'omega_b': wb_vals[i], 'omega_cdm': wm_vals[j] - wb_vals[i]}\n",
    "        cosmo = Class()\n",
    "        cosmo.set(params)\n",
    "        cosmo.compute()\n",
    "        keq_vals[i, j] = cosmo.k_eq()\n",
    "        zeq_vals[i, j] = cosmo.z_eq()\n",
    "        Store.append([wb_vals[i], wm_vals[j], keq_vals[i, j], zeq_vals[i, j]])\n",
    "\n",
    "np.savetxt('Data_k_z_eq.txt', Store, fmt='%5.5f')\n",
    "\n",
    "cosmo.empty()\n",
    "cosmo.struct_cleanup()\n",
    "\n",
    "print(\"Mission Complete!\")"
   ]
  },
  {
   "cell_type": "markdown",
   "id": "85065d26-cb79-40b6-a8c1-128a8d5b8e73",
   "metadata": {
    "tags": []
   },
   "source": [
    "# P(k) varying n_s"
   ]
  },
  {
   "cell_type": "code",
   "execution_count": 1,
   "id": "db986ae7-5ee8-4c6f-999d-df311700c817",
   "metadata": {
    "tags": []
   },
   "outputs": [],
   "source": [
    "from classy import Class\n",
    "import numpy as np"
   ]
  },
  {
   "cell_type": "code",
   "execution_count": 2,
   "id": "7a7567b6-63ed-4782-b849-6db5f24b4c35",
   "metadata": {
    "tags": []
   },
   "outputs": [],
   "source": [
    "# Values of n_s \n",
    "ns_vals = np.linspace(0.96, 0.97, 5)"
   ]
  },
  {
   "cell_type": "code",
   "execution_count": 3,
   "id": "03760c32-1c49-40d4-a2fc-f657c5ec99a9",
   "metadata": {
    "tags": []
   },
   "outputs": [],
   "source": [
    "# To store data\n",
    "Store = []"
   ]
  },
  {
   "cell_type": "code",
   "execution_count": 4,
   "id": "2ae91d01-e5df-4fc8-b940-c667f633f7c7",
   "metadata": {
    "tags": []
   },
   "outputs": [
    {
     "name": "stdout",
     "output_type": "stream",
     "text": [
      "Now running CLASS for model  0\n",
      "Now running CLASS for model  1\n",
      "Now running CLASS for model  2\n",
      "Now running CLASS for model  3\n",
      "Now running CLASS for model  4\n"
     ]
    }
   ],
   "source": [
    "for i in range(len(ns_vals)):\n",
    "    params = {'output': 'mPk', 'omega_b': 0.0223828, 'omega_cdm': 0.1201075, 'h': 0.67810, 'T_cmb': 2.7255,                        # Dimensionless reduced Hubble parameter (H_0 / (100km/s/Mpc))\n",
    "              'A_s': 2.100549e-09,'n_s': ns_vals[i]}\n",
    "    print(\"Now running CLASS for model \", i)\n",
    "    cosmo = Class()\n",
    "    cosmo.set(params)\n",
    "    cosmo.compute()\n",
    "    k_vals = np.logspace(-4, 0, 500) # k in h/Mpc\n",
    "    h = cosmo.h() # get reduced Hubble for conversions to 1/Mpc\n",
    "    Pk = [] \n",
    "    for k in k_vals:\n",
    "        Pk.append(cosmo.pk(k*h, 0)*h**3)\n",
    "    DataPk = np.array(list(zip(k_vals, Pk)))\n",
    "    Store = np.append(Store, DataPk, axis = None)\n",
    "    cosmo.empty()\n",
    "    cosmo.struct_cleanup()\n",
    "\n",
    "Data = Store.reshape(int(len(Store)/2), 2)\n",
    "np.savetxt('Data_Pk_ns.txt', Data, fmt= ['%.10f', '%.5f'])"
   ]
  },
  {
   "cell_type": "code",
   "execution_count": 5,
   "id": "37e11525-10c7-45af-83c7-c42fbbc96493",
   "metadata": {
    "tags": []
   },
   "outputs": [
    {
     "name": "stdout",
     "output_type": "stream",
     "text": [
      "[0.96   0.9625 0.965  0.9675 0.97  ]\n"
     ]
    }
   ],
   "source": [
    "print(ns_vals)"
   ]
  }
 ],
 "metadata": {
  "kernelspec": {
   "display_name": "Python 3 (ipykernel)",
   "language": "python",
   "name": "python3"
  },
  "language_info": {
   "codemirror_mode": {
    "name": "ipython",
    "version": 3
   },
   "file_extension": ".py",
   "mimetype": "text/x-python",
   "name": "python",
   "nbconvert_exporter": "python",
   "pygments_lexer": "ipython3",
   "version": "3.11.2"
  }
 },
 "nbformat": 4,
 "nbformat_minor": 5
}
